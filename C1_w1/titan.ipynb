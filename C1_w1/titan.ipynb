{
 "cells": [
  {
   "cell_type": "code",
   "execution_count": 1,
   "metadata": {},
   "outputs": [],
   "source": [
    "import pandas as pd\n"
   ]
  },
  {
   "cell_type": "code",
   "execution_count": 2,
   "metadata": {},
   "outputs": [
    {
     "data": {
      "text/html": [
       "<div>\n",
       "<style scoped>\n",
       "    .dataframe tbody tr th:only-of-type {\n",
       "        vertical-align: middle;\n",
       "    }\n",
       "\n",
       "    .dataframe tbody tr th {\n",
       "        vertical-align: top;\n",
       "    }\n",
       "\n",
       "    .dataframe thead th {\n",
       "        text-align: right;\n",
       "    }\n",
       "</style>\n",
       "<table border=\"1\" class=\"dataframe\">\n",
       "  <thead>\n",
       "    <tr style=\"text-align: right;\">\n",
       "      <th></th>\n",
       "      <th>Survived</th>\n",
       "      <th>Pclass</th>\n",
       "      <th>Name</th>\n",
       "      <th>Sex</th>\n",
       "      <th>Age</th>\n",
       "      <th>SibSp</th>\n",
       "      <th>Parch</th>\n",
       "      <th>Ticket</th>\n",
       "      <th>Fare</th>\n",
       "      <th>Cabin</th>\n",
       "      <th>Embarked</th>\n",
       "    </tr>\n",
       "    <tr>\n",
       "      <th>PassengerId</th>\n",
       "      <th></th>\n",
       "      <th></th>\n",
       "      <th></th>\n",
       "      <th></th>\n",
       "      <th></th>\n",
       "      <th></th>\n",
       "      <th></th>\n",
       "      <th></th>\n",
       "      <th></th>\n",
       "      <th></th>\n",
       "      <th></th>\n",
       "    </tr>\n",
       "  </thead>\n",
       "  <tbody>\n",
       "    <tr>\n",
       "      <th>1</th>\n",
       "      <td>0</td>\n",
       "      <td>3</td>\n",
       "      <td>Braund, Mr. Owen Harris</td>\n",
       "      <td>male</td>\n",
       "      <td>22.0</td>\n",
       "      <td>1</td>\n",
       "      <td>0</td>\n",
       "      <td>A/5 21171</td>\n",
       "      <td>7.2500</td>\n",
       "      <td>NaN</td>\n",
       "      <td>S</td>\n",
       "    </tr>\n",
       "    <tr>\n",
       "      <th>2</th>\n",
       "      <td>1</td>\n",
       "      <td>1</td>\n",
       "      <td>Cumings, Mrs. John Bradley (Florence Briggs Th...</td>\n",
       "      <td>female</td>\n",
       "      <td>38.0</td>\n",
       "      <td>1</td>\n",
       "      <td>0</td>\n",
       "      <td>PC 17599</td>\n",
       "      <td>71.2833</td>\n",
       "      <td>C85</td>\n",
       "      <td>C</td>\n",
       "    </tr>\n",
       "    <tr>\n",
       "      <th>3</th>\n",
       "      <td>1</td>\n",
       "      <td>3</td>\n",
       "      <td>Heikkinen, Miss. Laina</td>\n",
       "      <td>female</td>\n",
       "      <td>26.0</td>\n",
       "      <td>0</td>\n",
       "      <td>0</td>\n",
       "      <td>STON/O2. 3101282</td>\n",
       "      <td>7.9250</td>\n",
       "      <td>NaN</td>\n",
       "      <td>S</td>\n",
       "    </tr>\n",
       "    <tr>\n",
       "      <th>4</th>\n",
       "      <td>1</td>\n",
       "      <td>1</td>\n",
       "      <td>Futrelle, Mrs. Jacques Heath (Lily May Peel)</td>\n",
       "      <td>female</td>\n",
       "      <td>35.0</td>\n",
       "      <td>1</td>\n",
       "      <td>0</td>\n",
       "      <td>113803</td>\n",
       "      <td>53.1000</td>\n",
       "      <td>C123</td>\n",
       "      <td>S</td>\n",
       "    </tr>\n",
       "    <tr>\n",
       "      <th>5</th>\n",
       "      <td>0</td>\n",
       "      <td>3</td>\n",
       "      <td>Allen, Mr. William Henry</td>\n",
       "      <td>male</td>\n",
       "      <td>35.0</td>\n",
       "      <td>0</td>\n",
       "      <td>0</td>\n",
       "      <td>373450</td>\n",
       "      <td>8.0500</td>\n",
       "      <td>NaN</td>\n",
       "      <td>S</td>\n",
       "    </tr>\n",
       "  </tbody>\n",
       "</table>\n",
       "</div>"
      ],
      "text/plain": [
       "             Survived  Pclass  \\\n",
       "PassengerId                     \n",
       "1                   0       3   \n",
       "2                   1       1   \n",
       "3                   1       3   \n",
       "4                   1       1   \n",
       "5                   0       3   \n",
       "\n",
       "                                                          Name     Sex   Age  \\\n",
       "PassengerId                                                                    \n",
       "1                                      Braund, Mr. Owen Harris    male  22.0   \n",
       "2            Cumings, Mrs. John Bradley (Florence Briggs Th...  female  38.0   \n",
       "3                                       Heikkinen, Miss. Laina  female  26.0   \n",
       "4                 Futrelle, Mrs. Jacques Heath (Lily May Peel)  female  35.0   \n",
       "5                                     Allen, Mr. William Henry    male  35.0   \n",
       "\n",
       "             SibSp  Parch            Ticket     Fare Cabin Embarked  \n",
       "PassengerId                                                          \n",
       "1                1      0         A/5 21171   7.2500   NaN        S  \n",
       "2                1      0          PC 17599  71.2833   C85        C  \n",
       "3                0      0  STON/O2. 3101282   7.9250   NaN        S  \n",
       "4                1      0            113803  53.1000  C123        S  \n",
       "5                0      0            373450   8.0500   NaN        S  "
      ]
     },
     "execution_count": 2,
     "metadata": {},
     "output_type": "execute_result"
    }
   ],
   "source": [
    "df = pd.read_csv('titanic.csv', index_col='PassengerId')\n",
    "df.head()"
   ]
  },
  {
   "cell_type": "code",
   "execution_count": 8,
   "metadata": {},
   "outputs": [
    {
     "name": "stdout",
     "output_type": "stream",
     "text": [
      "############################\n",
      "Task 1\n",
      "Male on board :  577\n",
      "Female on board :  314\n"
     ]
    }
   ],
   "source": [
    "print(\"############################\")\n",
    "print(\"Task 1\")\n",
    "\n",
    "print(\"Male on board : \", df['Sex'].value_counts()['male'])\n",
    "print(\"Female on board : \", df['Sex'].value_counts()['female'])\n"
   ]
  },
  {
   "cell_type": "code",
   "execution_count": 74,
   "metadata": {},
   "outputs": [
    {
     "name": "stdout",
     "output_type": "stream",
     "text": [
      "############################\n",
      "Task 2\n",
      "The ratio is :  38.38 %\n"
     ]
    }
   ],
   "source": [
    "print(\"############################\")\n",
    "print(\"Task 2\")\n",
    "print(\"The ratio is : \", round(df['Survived'].value_counts()[1]/len(df['Survived'])*100, 2),\"%\")"
   ]
  },
  {
   "cell_type": "code",
   "execution_count": 25,
   "metadata": {},
   "outputs": [
    {
     "name": "stdout",
     "output_type": "stream",
     "text": [
      "############################\n",
      "Task 3\n",
      "The ratio is :  24.24 %\n"
     ]
    }
   ],
   "source": [
    "print(\"############################\")\n",
    "print(\"Task 3\")\n",
    "print(\"The ratio is : \", round(df['Pclass'].value_counts()[1]/len(df['Pclass'])*100, 2), \"%\")"
   ]
  },
  {
   "cell_type": "code",
   "execution_count": 30,
   "metadata": {},
   "outputs": [
    {
     "name": "stdout",
     "output_type": "stream",
     "text": [
      "############################\n",
      "Task 4\n",
      "Average is :  29.7\n",
      "Median is :  28.0\n"
     ]
    }
   ],
   "source": [
    "print(\"############################\")\n",
    "print(\"Task 4\")\n",
    "mean_age = df['Age'].mean()\n",
    "median_age = df['Age'].median()\n",
    "print(\"Average is : \", round(mean_age,2))\n",
    "print(\"Median is : \", median_age)"
   ]
  },
  {
   "cell_type": "code",
   "execution_count": 51,
   "metadata": {},
   "outputs": [
    {
     "name": "stdout",
     "output_type": "stream",
     "text": [
      "############################\n",
      "Task 5\n",
      "THe origin corr is :  0.41\n"
     ]
    }
   ],
   "source": [
    "anal_df = df[['SibSp', 'Parch']]\n",
    "total_corr = round(anal_df.corr()['SibSp']['Parch'],2)\n",
    "print(\"############################\")\n",
    "print(\"Task 5\")\n",
    "print(\"The origin corr is : \", total_corr)"
   ]
  },
  {
   "cell_type": "code",
   "execution_count": 73,
   "metadata": {},
   "outputs": [
    {
     "name": "stdout",
     "output_type": "stream",
     "text": [
      "Masselmani, Mrs. Fatima\n",
      "Thorne, Mrs. Gertrude Maybelle\n",
      "Aubart, Mme. Leontine Pauline\n",
      "Reynaldo, Ms. Encarnacion\n",
      "Sagesser, Mlle. Emma\n",
      "Kelly, Mrs. Florence \"Fannie\"\n",
      "Osman, Mrs. Mara\n",
      "############################\n",
      "Task 5\n",
      "The most valued name is : Anna 14\n"
     ]
    }
   ],
   "source": [
    "names_df = df[df['Sex'] == 'female']['Name']\n",
    "\n",
    "def names_counter(names):\n",
    "    dict_names = {}\n",
    "    for name in names:\n",
    "        try:\n",
    "            if 'Miss' in name:\n",
    "                sample = name.split()\n",
    "                find = sample[sample.index('Miss.')+1]\n",
    "            else:\n",
    "\n",
    "                if \"(\" in name:\n",
    "                    find = name.split('(')[1].split()[0]\n",
    "                else:\n",
    "                    print(name)\n",
    "                    find = name.split('Mrs.')[1].rstrip().split()[0]\n",
    "\n",
    "            if find in dict_names.keys():\n",
    "                dict_names[find] += 1\n",
    "            else:\n",
    "                dict_names[find] = 1\n",
    "        except:\n",
    "            pass\n",
    "            \n",
    "    return dict_names\n",
    "\n",
    "d = names_counter(names_df)\n",
    "mD = max(d.values())\n",
    "print(\"############################\")\n",
    "print(\"Task 5\")\n",
    "\n",
    "\n",
    "for k,v in d.items():\n",
    "    if v == mD:\n",
    "        print(\"The most valued name is :\",k,v)\n",
    "\n"
   ]
  },
  {
   "cell_type": "code",
   "execution_count": 72,
   "metadata": {},
   "outputs": [
    {
     "name": "stdout",
     "output_type": "stream",
     "text": [
      "Anna 14\n"
     ]
    }
   ],
   "source": []
  },
  {
   "cell_type": "code",
   "execution_count": 64,
   "metadata": {},
   "outputs": [
    {
     "data": {
      "text/plain": [
       "PassengerId\n",
       "2      Cumings, Mrs. John Bradley (Florence Briggs Th...\n",
       "3                                 Heikkinen, Miss. Laina\n",
       "4           Futrelle, Mrs. Jacques Heath (Lily May Peel)\n",
       "9      Johnson, Mrs. Oscar W (Elisabeth Vilhelmina Berg)\n",
       "10                   Nasser, Mrs. Nicholas (Adele Achem)\n",
       "11                       Sandstrom, Miss. Marguerite Rut\n",
       "12                              Bonnell, Miss. Elizabeth\n",
       "15                  Vestrom, Miss. Hulda Amanda Adolfina\n",
       "16                      Hewlett, Mrs. (Mary D Kingcome) \n",
       "19     Vander Planke, Mrs. Julius (Emelia Maria Vande...\n",
       "20                               Masselmani, Mrs. Fatima\n",
       "23                           McGowan, Miss. Anna \"Annie\"\n",
       "25                         Palsson, Miss. Torborg Danira\n",
       "26     Asplund, Mrs. Carl Oscar (Selma Augusta Emilia...\n",
       "29                         O'Dwyer, Miss. Ellen \"Nellie\"\n",
       "32        Spencer, Mrs. William Augustus (Marie Eugenie)\n",
       "33                              Glynn, Miss. Mary Agatha\n",
       "39                    Vander Planke, Miss. Augusta Maria\n",
       "40                           Nicola-Yarred, Miss. Jamila\n",
       "41        Ahlin, Mrs. Johan (Johanna Persdotter Larsson)\n",
       "42     Turpin, Mrs. William John Robert (Dorothy Ann ...\n",
       "44              Laroche, Miss. Simonne Marie Anne Andree\n",
       "45                         Devaney, Miss. Margaret Delia\n",
       "48                             O'Driscoll, Miss. Bridget\n",
       "50         Arnold-Franchi, Mrs. Josef (Josefine Franchi)\n",
       "53              Harper, Mrs. Henry Sleeper (Myna Haxtun)\n",
       "54     Faunthorpe, Mrs. Lizzie (Elizabeth Anne Wilkin...\n",
       "57                                     Rugg, Miss. Emily\n",
       "59                          West, Miss. Constance Mirium\n",
       "62                                   Icard, Miss. Amelie\n",
       "                             ...                        \n",
       "808                      Pettersson, Miss. Ellen Natalia\n",
       "810       Chambers, Mrs. Norman Campbell (Bertha Griggs)\n",
       "814                   Andersson, Miss. Ebba Iris Alfrida\n",
       "817                         Heininen, Miss. Wendla Maria\n",
       "821    Hays, Mrs. Charles Melville (Clara Jennings Gr...\n",
       "824                                   Moor, Mrs. (Beila)\n",
       "830            Stone, Mrs. George Nelson (Martha Evelyn)\n",
       "831              Yasbeck, Mrs. Antoni (Selini Alexander)\n",
       "836                          Compton, Miss. Sara Rebecca\n",
       "843                              Serepeca, Miss. Augusta\n",
       "850         Goldenberg, Mrs. Samuel L (Edwiga Grabowska)\n",
       "853                              Boulos, Miss. Nourelain\n",
       "854                            Lines, Miss. Mary Conover\n",
       "855        Carter, Mrs. Ernest Courtenay (Lilian Hughes)\n",
       "856                           Aks, Mrs. Sam (Leah Rosen)\n",
       "857           Wick, Mrs. George Dennick (Mary Hitchcock)\n",
       "859                Baclini, Mrs. Solomon (Latifa Qurban)\n",
       "863    Swift, Mrs. Frederick Joel (Margaret Welles Ba...\n",
       "864                    Sage, Miss. Dorothy Edith \"Dolly\"\n",
       "866                             Bystrom, Mrs. (Karolina)\n",
       "867                         Duran y More, Miss. Asuncion\n",
       "872     Beckwith, Mrs. Richard Leonard (Sallie Monypeny)\n",
       "875                Abelson, Mrs. Samuel (Hannah Wizosky)\n",
       "876                     Najib, Miss. Adele Kiamie \"Jane\"\n",
       "880        Potter, Mrs. Thomas Jr (Lily Alexenia Wilson)\n",
       "881         Shelley, Mrs. William (Imanita Parrish Hall)\n",
       "883                         Dahlberg, Miss. Gerda Ulrika\n",
       "886                 Rice, Mrs. William (Margaret Norton)\n",
       "888                         Graham, Miss. Margaret Edith\n",
       "889             Johnston, Miss. Catherine Helen \"Carrie\"\n",
       "Name: Name, Length: 314, dtype: object"
      ]
     },
     "execution_count": 64,
     "metadata": {},
     "output_type": "execute_result"
    }
   ],
   "source": [
    "names_df"
   ]
  },
  {
   "cell_type": "code",
   "execution_count": null,
   "metadata": {},
   "outputs": [],
   "source": []
  }
 ],
 "metadata": {
  "kernelspec": {
   "display_name": "Python 3",
   "language": "python",
   "name": "python3"
  },
  "language_info": {
   "codemirror_mode": {
    "name": "ipython",
    "version": 3
   },
   "file_extension": ".py",
   "mimetype": "text/x-python",
   "name": "python",
   "nbconvert_exporter": "python",
   "pygments_lexer": "ipython3",
   "version": "3.6.8"
  }
 },
 "nbformat": 4,
 "nbformat_minor": 2
}
